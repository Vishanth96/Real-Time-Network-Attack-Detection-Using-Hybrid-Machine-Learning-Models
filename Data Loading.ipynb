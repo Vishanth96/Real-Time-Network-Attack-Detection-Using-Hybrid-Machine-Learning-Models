{
 "cells": [
  {
   "cell_type": "markdown",
   "id": "2e6d9b4f-d7ad-47a1-8afb-809517d156b9",
   "metadata": {
    "id": "2e6d9b4f-d7ad-47a1-8afb-809517d156b9"
   },
   "source": [
    "\n",
    "\n",
    "# Step 1. Data Preprocessing and Data Cleaning and Feature Selection\n",
    "\n"
   ]
  },
  {
   "cell_type": "markdown",
   "id": "660f9720-3fd1-4b2e-9941-aa19ba05f13b",
   "metadata": {
    "id": "660f9720-3fd1-4b2e-9941-aa19ba05f13b"
   },
   "source": [
    "\n",
    "# 1.1 Daatset Loading\n",
    "\n"
   ]
  },
  {
   "cell_type": "code",
   "execution_count": null,
   "id": "e8198a44-dacd-4bb6-969f-83f0b470c78d",
   "metadata": {
    "colab": {
     "base_uri": "https://localhost:8080/"
    },
    "executionInfo": {
     "elapsed": 35345,
     "status": "ok",
     "timestamp": 1724389240078,
     "user": {
      "displayName": "Reeju Ballabh",
      "userId": "07598543074566050804"
     },
     "user_tz": -330
    },
    "id": "e8198a44-dacd-4bb6-969f-83f0b470c78d",
    "outputId": "4b9e884d-d861-4505-ca28-8b8ba0f93ce8"
   },
   "outputs": [
    {
     "name": "stdout",
     "output_type": "stream",
     "text": [
      "Mounted at /content/drive\n",
      "First few rows of the dataset:\n",
      "   no  id.orig_p  id.resp_p proto service  flow_duration  fwd_pkts_tot  \\\n",
      "0   0      38667       1883   tcp    mqtt      32.011598             9   \n",
      "1   1      51143       1883   tcp    mqtt      31.883584             9   \n",
      "2   2      44761       1883   tcp    mqtt      32.124053             9   \n",
      "3   3      60893       1883   tcp    mqtt      31.961063             9   \n",
      "4   4      51087       1883   tcp    mqtt      31.902362             9   \n",
      "\n",
      "   bwd_pkts_tot  fwd_data_pkts_tot  bwd_data_pkts_tot  ...  active.std  \\\n",
      "0             5                  3                  3  ...         0.0   \n",
      "1             5                  3                  3  ...         0.0   \n",
      "2             5                  3                  3  ...         0.0   \n",
      "3             5                  3                  3  ...         0.0   \n",
      "4             5                  3                  3  ...         0.0   \n",
      "\n",
      "       idle.min      idle.max      idle.tot      idle.avg  idle.std  \\\n",
      "0  2.972918e+07  2.972918e+07  2.972918e+07  2.972918e+07       0.0   \n",
      "1  2.985528e+07  2.985528e+07  2.985528e+07  2.985528e+07       0.0   \n",
      "2  2.984215e+07  2.984215e+07  2.984215e+07  2.984215e+07       0.0   \n",
      "3  2.991377e+07  2.991377e+07  2.991377e+07  2.991377e+07       0.0   \n",
      "4  2.981470e+07  2.981470e+07  2.981470e+07  2.981470e+07       0.0   \n",
      "\n",
      "   fwd_init_window_size  bwd_init_window_size  fwd_last_window_size  \\\n",
      "0                 64240                 26847                   502   \n",
      "1                 64240                 26847                   502   \n",
      "2                 64240                 26847                   502   \n",
      "3                 64240                 26847                   502   \n",
      "4                 64240                 26847                   502   \n",
      "\n",
      "    Attack_type  \n",
      "0  MQTT_Publish  \n",
      "1  MQTT_Publish  \n",
      "2  MQTT_Publish  \n",
      "3  MQTT_Publish  \n",
      "4  MQTT_Publish  \n",
      "\n",
      "[5 rows x 85 columns]\n"
     ]
    }
   ],
   "source": [
    "\n",
    "from google.colab import drive\n",
    "import pandas as pd\n",
    "import numpy as np\n",
    "import sys\n",
    "\n",
    "\n",
    "drive.mount('/content/drive')\n",
    "\n",
    "# Load the dataset\n",
    "file_path = ('/content/drive/MyDrive/RT_IOT2022.csv')  # Ensure that the file path is correctly pointing to the dataset\n",
    "dataset = pd.read_csv(file_path)\n",
    "\n",
    "# Display the first few rows to verify the data loading (optional)\n",
    "print(\"First few rows of the dataset:\")\n",
    "print(dataset.head())\n",
    "\n"
   ]
  }
 ],
 "metadata": {
  "colab": {
   "machine_shape": "hm",
   "provenance": []
  },
  "kernelspec": {
   "display_name": "Python 3 (ipykernel)",
   "language": "python",
   "name": "python3"
  },
  "language_info": {
   "codemirror_mode": {
    "name": "ipython",
    "version": 3
   },
   "file_extension": ".py",
   "mimetype": "text/x-python",
   "name": "python",
   "nbconvert_exporter": "python",
   "pygments_lexer": "ipython3",
   "version": "3.12.5"
  }
 },
 "nbformat": 4,
 "nbformat_minor": 5
}
